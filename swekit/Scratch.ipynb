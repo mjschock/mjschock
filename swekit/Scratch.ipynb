{
 "cells": [
  {
   "cell_type": "code",
   "execution_count": 1,
   "metadata": {},
   "outputs": [],
   "source": [
    "import json\n",
    "import os\n",
    "\n",
    "import pandas as pd"
   ]
  },
  {
   "cell_type": "code",
   "execution_count": 2,
   "metadata": {},
   "outputs": [],
   "source": [
    "def get_json_files_in_downloads_folder():\n",
    "    downloads_folder = os.path.expanduser(\"~/Downloads\")\n",
    "    files = os.listdir(downloads_folder)\n",
    "    json_files = [f for f in files if f.endswith(\".json\")]\n",
    "    return json_files\n",
    "\n",
    "json_files = get_json_files_in_downloads_folder()"
   ]
  },
  {
   "cell_type": "code",
   "execution_count": 3,
   "metadata": {},
   "outputs": [],
   "source": [
    "urls = set([])\n",
    "\n",
    "for file in json_files:\n",
    "    with open(os.path.expanduser(f\"~/Downloads/{file}\")) as f:\n",
    "        data = json.load(f)\n",
    "\n",
    "        for item in data:\n",
    "            if 'windows' in item:\n",
    "                for window_id, tab_ids in item['windows'].items():\n",
    "                    for tab_id in tab_ids:\n",
    "                        tab = item['windows'][window_id][tab_id]\n",
    "                        if 'url' in tab:\n",
    "                            urls.add(tab['url'])\n",
    "\n",
    "df = pd.DataFrame(sorted(list(urls)), columns=['url'])\n",
    "df.to_csv(os.path.expanduser(\"~/Downloads/urls.csv\"), index=False)"
   ]
  },
  {
   "cell_type": "code",
   "execution_count": null,
   "metadata": {},
   "outputs": [],
   "source": []
  }
 ],
 "metadata": {
  "kernelspec": {
   "display_name": ".venv",
   "language": "python",
   "name": "python3"
  },
  "language_info": {
   "codemirror_mode": {
    "name": "ipython",
    "version": 3
   },
   "file_extension": ".py",
   "mimetype": "text/x-python",
   "name": "python",
   "nbconvert_exporter": "python",
   "pygments_lexer": "ipython3",
   "version": "3.11.9"
  }
 },
 "nbformat": 4,
 "nbformat_minor": 2
}
